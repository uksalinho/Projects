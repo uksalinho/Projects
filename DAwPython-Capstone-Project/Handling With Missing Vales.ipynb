{
 "cells": [
  {
   "cell_type": "markdown",
   "id": "07c83d53",
   "metadata": {},
   "source": [
    "\n",
    "    , 'short_description',\n",
    "       , 'registration',\n",
    " .      'prev_owner',\n",
    " .      Next Inspection',\n",
    " .     \n",
    " .      'First Registration',\n",
    "       'Body Color',\n",
    "       'Body Color Original',\n",
    " .      'Upholstery',\n",
    " .     'Body',\n",
    "       'Model Code',\n",
    "  .      'description',\n",
    "        \n",
    "       \n",
    "       sam hoca silmis kw-hp-type-warranty\n",
    "       \n",
    "       age\n",
    "       hp_kw\n",
    "       Upholstery_type\n",
    "       Upholstery_color\n",
    "       Displacement_cc\n",
    " ok       Weight_kg\n",
    "       cons_comb\n",
    "       cons_city\n",
    "       cons_coubtry\n",
    "       \n",
    " \"Make\", \"Model, 'Warranty', , \n",
    "       "
   ]
  },
  {
   "cell_type": "code",
   "execution_count": null,
   "id": "2edd1e3e",
   "metadata": {},
   "outputs": [],
   "source": [
    "df.drop([\"url\", \"Make\", \"Model\", \"null\", \"short_description\", 'Body', 'First_Registration', 'prev_owner', 'kW', 'hp',\n",
    "         'Warranty', 'Full_Service', 'description',\n",
    "         'Non-smoking_Vehicle', 'Offer_Number', 'Displacement', 'Weight', 'Consumption', 'Emission_Label',\n",
    "         'Country_version', 'Electricity_consumption', 'Last_Service_Date', 'Other Fuel Types',\n",
    "         'Availability', 'Last_Timing_Belt_Service_Date', 'Available_from' ], axis=1, inplace=True)"
   ]
  },
  {
   "cell_type": "code",
   "execution_count": null,
   "id": "7e3510f1",
   "metadata": {},
   "outputs": [],
   "source": [
    "Index(['url', 'make_model', 'short_description', 'body_type', 'price', 'vat',\n",
    "       'km', 'registration', 'prev_owner', 'kW', 'hp', 'Type',\n",
    "       'Previous_Owners', 'Next_Inspection', 'Inspection_new', 'Warranty',\n",
    "       'Full_Service', 'Non-smoking_Vehicle', 'null', 'Make', 'Model',\n",
    "       'Offer_Number', 'First_Registration', 'Body_Color', 'Paint_Type',\n",
    "       'Body_Color_Original', 'Upholstery', 'Body', 'Nr._of_Doors',\n",
    "       'Nr._of_Seats', 'Model_Code', 'Gearing_Type', 'Displacement',\n",
    "       'Cylinders', 'Weight', 'Drive_chain', 'Fuel', 'Consumption',\n",
    "       'CO2_Emission', 'Emission_Class', 'Comfort_&_Convenience',\n",
    "       'Entertainment_&_Media', 'Extras', 'Safety_&_Security', 'description',\n",
    "       'Emission_Label', 'Gears', 'Country_version', 'Electricity_consumption',\n",
    "       'Last_Service_Date', 'Other_Fuel_Types', 'Availability',\n",
    "       'Last_Timing_Belt_Service_Date', 'Available_from'],\n",
    "      dtype='object')"
   ]
  },
  {
   "cell_type": "code",
   "execution_count": null,
   "id": "29e9b8ec",
   "metadata": {},
   "outputs": [],
   "source": [
    "#df['weight_kg'] = df.Weight.str[0].str.replace(',', '').str.strip('\\n').str.strip('kg')\n",
    "#df['weight_kg'].T"
   ]
  }
 ],
 "metadata": {
  "kernelspec": {
   "display_name": "Python 3 (ipykernel)",
   "language": "python",
   "name": "python3"
  },
  "language_info": {
   "codemirror_mode": {
    "name": "ipython",
    "version": 3
   },
   "file_extension": ".py",
   "mimetype": "text/x-python",
   "name": "python",
   "nbconvert_exporter": "python",
   "pygments_lexer": "ipython3",
   "version": "3.9.7"
  },
  "toc": {
   "base_numbering": 1,
   "nav_menu": {},
   "number_sections": true,
   "sideBar": true,
   "skip_h1_title": false,
   "title_cell": "Table of Contents",
   "title_sidebar": "Contents",
   "toc_cell": false,
   "toc_position": {},
   "toc_section_display": true,
   "toc_window_display": false
  },
  "varInspector": {
   "cols": {
    "lenName": 16,
    "lenType": 16,
    "lenVar": 40
   },
   "kernels_config": {
    "python": {
     "delete_cmd_postfix": "",
     "delete_cmd_prefix": "del ",
     "library": "var_list.py",
     "varRefreshCmd": "print(var_dic_list())"
    },
    "r": {
     "delete_cmd_postfix": ") ",
     "delete_cmd_prefix": "rm(",
     "library": "var_list.r",
     "varRefreshCmd": "cat(var_dic_list()) "
    }
   },
   "types_to_exclude": [
    "module",
    "function",
    "builtin_function_or_method",
    "instance",
    "_Feature"
   ],
   "window_display": false
  }
 },
 "nbformat": 4,
 "nbformat_minor": 5
}
